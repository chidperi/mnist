{
 "cells": [
  {
   "cell_type": "code",
   "execution_count": 131,
   "metadata": {},
   "outputs": [],
   "source": [
    "%matplotlib inline\n",
    "import mnist_data\n",
    "import numpy as np\n",
    "import GAN\n",
    "\n",
    "from keras import Input, Model, Sequential\n",
    "from keras.layers import Conv2D, MaxPool2D, Dense, Flatten, Conv2DTranspose, Reshape, BatchNormalization\n",
    "import numpy as np"
   ]
  },
  {
   "cell_type": "code",
   "execution_count": 132,
   "metadata": {},
   "outputs": [],
   "source": [
    "class Generator(object):\n",
    "    '''\n",
    "\n",
    "    '''\n",
    "    def __init__(self, h, d, classes):\n",
    "        self.trainable = True\n",
    "\n",
    "        g_1 = Dense(100, activation='relu', trainable=self.trainable, input_shape=(classes,))\n",
    "        \n",
    "        g_2 = BatchNormalization()\n",
    "\n",
    "        g_3 = Dense(4096, activation='relu', trainable=self.trainable)\n",
    "        \n",
    "        g_4 = BatchNormalization()\n",
    "\n",
    "        g_5 = Reshape(target_shape=(2, 2, 1024))\n",
    "\n",
    "        g_6 = Conv2DTranspose(512, (3, 3), strides=2, activation='relu', padding='valid', trainable=self.trainable)\n",
    "\n",
    "        g_7 = BatchNormalization()\n",
    "        \n",
    "        g_8 = Conv2DTranspose(256, (3, 3), strides=1, activation='relu', padding='valid', trainable=self.trainable)\n",
    "\n",
    "        g_9 = BatchNormalization()\n",
    "        \n",
    "        g_10 = Conv2DTranspose(128, (4, 4), strides=2, activation='relu', padding='same', trainable=self.trainable)\n",
    "\n",
    "        g_11 = BatchNormalization()\n",
    "        \n",
    "        g_12 = Conv2DTranspose(1, (4, 4), strides=2, activation='tanh', padding='same', trainable=self.trainable)\n",
    "\n",
    "        self.model = Sequential([\n",
    "\n",
    "            g_1,\n",
    "            g_2,\n",
    "            g_3,\n",
    "            g_4,\n",
    "            g_5,\n",
    "            g_6,\n",
    "            g_7,\n",
    "            g_8,\n",
    "            g_9,\n",
    "            g_10,\n",
    "            g_11,\n",
    "            g_12\n",
    "            \n",
    "        ])\n",
    "\n",
    "    def frozen_model(self):\n",
    "        self.trainable = False\n",
    "        self.model.layers[0].trainable = self.trainable\n",
    "        self.model.layers[1].trainable = self.trainable\n",
    "        self.model.layers[2].trainable = self.trainable\n",
    "        self.model.layers[3].trainable = self.trainable\n",
    "        self.model.layers[4].trainable = self.trainable\n",
    "        self.model.layers[5].trainable = self.trainable\n",
    "        self.model.layers[6].trainable = self.trainable\n",
    "        self.model.layers[7].trainable = self.trainable\n",
    "\n",
    "    def trainable_model(self):\n",
    "        self.trainable = True\n",
    "        self.model.layers[0].trainable = self.trainable\n",
    "        self.model.layers[1].trainable = self.trainable\n",
    "        self.model.layers[2].trainable = self.trainable\n",
    "        self.model.layers[3].trainable = self.trainable\n",
    "        self.model.layers[4].trainable = self.trainable\n",
    "        self.model.layers[5].trainable = self.trainable\n",
    "        self.model.layers[6].trainable = self.trainable\n",
    "        self.model.layers[7].trainable = self.trainable\n",
    "\n",
    "\n"
   ]
  },
  {
   "cell_type": "code",
   "execution_count": 133,
   "metadata": {},
   "outputs": [],
   "source": [
    "model = Generator(28,28,10)"
   ]
  },
  {
   "cell_type": "code",
   "execution_count": 134,
   "metadata": {
    "scrolled": false
   },
   "outputs": [
    {
     "name": "stdout",
     "output_type": "stream",
     "text": [
      "_________________________________________________________________\n",
      "Layer (type)                 Output Shape              Param #   \n",
      "=================================================================\n",
      "dense_87 (Dense)             (None, 100)               1100      \n",
      "_________________________________________________________________\n",
      "batch_normalization_1 (Batch (None, 100)               400       \n",
      "_________________________________________________________________\n",
      "dense_88 (Dense)             (None, 4096)              413696    \n",
      "_________________________________________________________________\n",
      "batch_normalization_2 (Batch (None, 4096)              16384     \n",
      "_________________________________________________________________\n",
      "reshape_44 (Reshape)         (None, 2, 2, 1024)        0         \n",
      "_________________________________________________________________\n",
      "conv2d_transpose_177 (Conv2D (None, 5, 5, 512)         4719104   \n",
      "_________________________________________________________________\n",
      "batch_normalization_3 (Batch (None, 5, 5, 512)         2048      \n",
      "_________________________________________________________________\n",
      "conv2d_transpose_178 (Conv2D (None, 7, 7, 256)         1179904   \n",
      "_________________________________________________________________\n",
      "batch_normalization_4 (Batch (None, 7, 7, 256)         1024      \n",
      "_________________________________________________________________\n",
      "conv2d_transpose_179 (Conv2D (None, 14, 14, 128)       524416    \n",
      "_________________________________________________________________\n",
      "batch_normalization_5 (Batch (None, 14, 14, 128)       512       \n",
      "_________________________________________________________________\n",
      "conv2d_transpose_180 (Conv2D (None, 28, 28, 1)         2049      \n",
      "=================================================================\n",
      "Total params: 6,860,637\n",
      "Trainable params: 6,850,453\n",
      "Non-trainable params: 10,184\n",
      "_________________________________________________________________\n"
     ]
    }
   ],
   "source": [
    "model.model.summary()"
   ]
  },
  {
   "cell_type": "code",
   "execution_count": null,
   "metadata": {},
   "outputs": [],
   "source": [
    "training_images[1,:,:,0]\n",
    "\n"
   ]
  },
  {
   "cell_type": "code",
   "execution_count": 5,
   "metadata": {},
   "outputs": [
    {
     "name": "stdout",
     "output_type": "stream",
     "text": [
      "Label is 0\n"
     ]
    },
    {
     "data": {
      "image/png": "[encoded data removed]",
      "text/plain": [
       "<Figure size 432x288 with 1 Axes>"
      ]
     },
     "metadata": {},
     "output_type": "display_data"
    }
   ],
   "source": [
    "mnist_data.show_image(1, training_images, training_labels)"
   ]
  },
  {
   "cell_type": "code",
   "execution_count": 6,
   "metadata": {},
   "outputs": [],
   "source": [
    "train, test = mnist_data.X_normalize(training_images, test_images)"
   ]
  },
  {
   "cell_type": "code",
   "execution_count": 7,
   "metadata": {},
   "outputs": [
    {
     "data": {
      "text/plain": [
       "array([[-1.        , -1.        , -1.        , -1.        , -1.        ,\n",
       "        -1.        , -1.        , -1.        , -1.        , -1.        ,\n",
       "        -1.        , -1.        , -1.        , -1.        , -1.        ,\n",
       "        -1.        , -1.        , -1.        , -1.        , -1.        ,\n",
       "        -1.        , -1.        , -1.        , -1.        , -1.        ,\n",
       "        -1.        , -1.        , -1.        ],\n",
       "       [-1.        , -1.        , -1.        , -1.        , -1.        ,\n",
       "        -1.        , -1.        , -1.        , -1.        , -1.        ,\n",
       "        -1.        , -1.        , -1.        , -1.        , -1.        ,\n",
       "        -1.        , -1.        , -1.        , -1.        , -1.        ,\n",
       "        -1.        , -1.        , -1.        , -1.        , -1.        ,\n",
       "        -1.        , -1.        , -1.        ],\n",
       "       [-1.        , -1.        , -1.        , -1.        , -1.        ,\n",
       "        -1.        , -1.        , -1.        , -1.        , -1.        ,\n",
       "        -1.        , -1.        , -1.        , -1.        , -1.        ,\n",
       "        -1.        , -1.        , -1.        , -1.        , -1.        ,\n",
       "        -1.        , -1.        , -1.        , -1.        , -1.        ,\n",
       "        -1.        , -1.        , -1.        ],\n",
       "       [-1.        , -1.        , -1.        , -1.        , -1.        ,\n",
       "        -1.        , -1.        , -1.        , -1.        , -1.        ,\n",
       "        -1.        , -1.        , -1.        , -1.        , -1.        ,\n",
       "        -1.        , -1.        , -1.        , -1.        , -1.        ,\n",
       "        -1.        , -1.        , -1.        , -1.        , -1.        ,\n",
       "        -1.        , -1.        , -1.        ],\n",
       "       [-1.        , -1.        , -1.        , -1.        , -1.        ,\n",
       "        -1.        , -1.        , -1.        , -1.        , -1.        ,\n",
       "        -1.        , -1.        , -1.        , -1.        , -1.        ,\n",
       "        -0.6       ,  0.24705882,  0.98431373,  0.24705882, -0.60784314,\n",
       "        -1.        , -1.        , -1.        , -1.        , -1.        ,\n",
       "        -1.        , -1.        , -1.        ],\n",
       "       [-1.        , -1.        , -1.        , -1.        , -1.        ,\n",
       "        -1.        , -1.        , -1.        , -1.        , -1.        ,\n",
       "        -1.        , -1.        , -1.        , -1.        , -0.62352941,\n",
       "         0.86666667,  0.97647059,  0.97647059,  0.97647059,  0.85882353,\n",
       "        -1.        , -1.        , -1.        , -1.        , -1.        ,\n",
       "        -1.        , -1.        , -1.        ],\n",
       "       [-1.        , -1.        , -1.        , -1.        , -1.        ,\n",
       "        -1.        , -1.        , -1.        , -1.        , -1.        ,\n",
       "        -1.        , -1.        , -1.        , -0.57647059,  0.78039216,\n",
       "         0.98431373,  0.97647059,  0.8745098 ,  0.82745098,  0.97647059,\n",
       "        -0.55294118, -0.95294118, -1.        , -1.        , -1.        ,\n",
       "        -1.        , -1.        , -1.        ],\n",
       "       [-1.        , -1.        , -1.        , -1.        , -1.        ,\n",
       "        -1.        , -1.        , -1.        , -1.        , -1.        ,\n",
       "        -1.        , -0.92156863, -0.52941176,  0.75686275,  0.97647059,\n",
       "         0.98431373,  0.97647059,  0.58431373, -0.34117647,  0.97647059,\n",
       "         0.98431373, -0.04313725, -1.        , -1.        , -1.        ,\n",
       "        -1.        , -1.        , -1.        ],\n",
       "       [-1.        , -1.        , -1.        , -1.        , -1.        ,\n",
       "        -1.        , -1.        , -1.        , -1.        , -1.        ,\n",
       "        -1.        ,  0.27843137,  0.97647059,  0.97647059,  0.97647059,\n",
       "         0.98431373,  0.97647059,  0.97647059, -0.24705882,  0.48235294,\n",
       "         0.98431373,  0.30980392, -1.        , -1.        , -1.        ,\n",
       "        -1.        , -1.        , -1.        ],\n",
       "       [-1.        , -1.        , -1.        , -1.        , -1.        ,\n",
       "        -1.        , -1.        , -1.        , -1.        , -1.        ,\n",
       "        -0.6       ,  0.86666667,  0.98431373,  0.98431373,  0.49019608,\n",
       "        -0.10588235,  0.98431373,  0.78823529, -0.63137255, -0.38039216,\n",
       "         1.        ,  0.31764706, -1.        , -1.        , -1.        ,\n",
       "        -1.        , -1.        , -1.        ],\n",
       "       [-1.        , -1.        , -1.        , -1.        , -1.        ,\n",
       "        -1.        , -1.        , -1.        , -1.        , -0.62352941,\n",
       "         0.86666667,  0.97647059,  0.97647059,  0.40392157, -0.90588235,\n",
       "        -0.41176471, -0.05098039, -0.83529412, -1.        , -1.        ,\n",
       "         0.98431373,  0.90588235, -0.60784314, -1.        , -1.        ,\n",
       "        -1.        , -1.        , -1.        ],\n",
       "       [-1.        , -1.        , -1.        , -1.        , -1.        ,\n",
       "        -1.        , -1.        , -1.        , -0.70196078,  0.29411765,\n",
       "         0.98431373,  0.82745098,  0.63137255, -0.34117647, -1.        ,\n",
       "        -1.        , -1.        , -1.        , -1.        , -1.        ,\n",
       "         0.98431373,  0.97647059,  0.29411765, -1.        , -1.        ,\n",
       "        -1.        , -1.        , -1.        ],\n",
       "       [-1.        , -1.        , -1.        , -1.        , -1.        ,\n",
       "        -1.        , -1.        , -0.94509804,  0.39607843,  0.97647059,\n",
       "         0.88235294, -0.44313725, -0.85098039, -0.78039216, -1.        ,\n",
       "        -1.        , -1.        , -1.        , -1.        , -1.        ,\n",
       "         0.98431373,  0.97647059,  0.52941176, -1.        , -1.        ,\n",
       "        -1.        , -1.        , -1.        ],\n",
       "       [-1.        , -1.        , -1.        , -1.        , -1.        ,\n",
       "        -1.        , -1.        , -0.55294118,  0.97647059,  0.97647059,\n",
       "        -0.50588235, -1.        , -1.        , -1.        , -1.        ,\n",
       "        -1.        , -1.        , -1.        , -1.        , -1.        ,\n",
       "         0.98431373,  0.97647059,  0.52941176, -1.        , -1.        ,\n",
       "        -1.        , -1.        , -1.        ],\n",
       "       [-1.        , -1.        , -1.        , -1.        , -1.        ,\n",
       "        -1.        , -1.        ,  0.55294118,  0.98431373,  0.49019608,\n",
       "        -1.        , -1.        , -1.        , -1.        , -1.        ,\n",
       "        -1.        , -1.        , -1.        , -1.        , -1.        ,\n",
       "         1.        ,  0.98431373,  0.5372549 , -1.        , -1.        ,\n",
       "        -1.        , -1.        , -1.        ],\n",
       "       [-1.        , -1.        , -1.        , -1.        , -1.        ,\n",
       "        -1.        , -0.40392157,  0.92941176,  0.97647059, -0.12156863,\n",
       "        -1.        , -1.        , -1.        , -1.        , -1.        ,\n",
       "        -1.        , -1.        , -1.        , -1.        , -1.        ,\n",
       "         0.98431373,  0.97647059,  0.16078431, -1.        , -1.        ,\n",
       "        -1.        , -1.        , -1.        ],\n",
       "       [-1.        , -1.        , -1.        , -1.        , -1.        ,\n",
       "        -1.        , -0.33333333,  0.97647059,  0.80392157, -0.80392157,\n",
       "        -1.        , -1.        , -1.        , -1.        , -1.        ,\n",
       "        -1.        , -1.        , -1.        , -0.94509804,  0.05882353,\n",
       "         0.98431373,  0.45882353, -0.90588235, -1.        , -1.        ,\n",
       "        -1.        , -1.        , -1.        ],\n",
       "       [-1.        , -1.        , -1.        , -1.        , -1.        ,\n",
       "        -1.        , -0.33333333,  0.97647059,  0.74901961, -1.        ,\n",
       "        -1.        , -1.        , -1.        , -1.        , -1.        ,\n",
       "        -1.        , -1.        , -0.94509804,  0.02745098,  0.97647059,\n",
       "         0.76470588, -0.44313725, -1.        , -1.        , -1.        ,\n",
       "        -1.        , -1.        , -1.        ],\n",
       "       [-1.        , -1.        , -1.        , -1.        , -1.        ,\n",
       "        -1.        , -0.33333333,  0.97647059,  0.1372549 , -1.        ,\n",
       "        -1.        , -1.        , -1.        , -1.        , -1.        ,\n",
       "        -1.        , -0.62352941,  0.29411765,  0.97647059,  0.35686275,\n",
       "        -1.        , -1.        , -1.        , -1.        , -1.        ,\n",
       "        -1.        , -1.        , -1.        ],\n",
       "       [-1.        , -1.        , -1.        , -1.        , -1.        ,\n",
       "        -1.        , -0.3254902 ,  0.98431373,  0.76470588, -1.        ,\n",
       "        -1.        , -1.        , -1.        , -1.        , -1.        ,\n",
       "        -0.10588235,  0.86666667,  0.98431373,  0.27058824, -1.        ,\n",
       "        -1.        , -1.        , -1.        , -1.        , -1.        ,\n",
       "        -1.        , -1.        , -1.        ],\n",
       "       [-1.        , -1.        , -1.        , -1.        , -1.        ,\n",
       "        -1.        , -0.33333333,  0.97647059,  0.95294118,  0.14509804,\n",
       "        -0.62352941, -0.77254902, -0.33333333,  0.39607843,  0.76470588,\n",
       "         0.98431373,  0.74901961,  0.30980392, -0.56078431, -1.        ,\n",
       "        -1.        , -1.        , -1.        , -1.        , -1.        ,\n",
       "        -1.        , -1.        , -1.        ],\n",
       "       [-1.        , -1.        , -1.        , -1.        , -1.        ,\n",
       "        -1.        , -0.33333333,  0.97647059,  0.97647059,  0.97647059,\n",
       "         0.79607843,  0.68627451,  0.97647059,  0.97647059,  0.97647059,\n",
       "         0.5372549 ,  0.01960784, -1.        , -1.        , -1.        ,\n",
       "        -1.        , -1.        , -1.        , -1.        , -1.        ,\n",
       "        -1.        , -1.        , -1.        ],\n",
       "       [-1.        , -1.        , -1.        , -1.        , -1.        ,\n",
       "        -1.        , -0.78039216,  0.56078431,  0.97647059,  0.97647059,\n",
       "         0.98431373,  0.97647059,  0.97647059,  0.82745098,  0.1372549 ,\n",
       "        -1.        , -1.        , -1.        , -1.        , -1.        ,\n",
       "        -1.        , -1.        , -1.        , -1.        , -1.        ,\n",
       "        -1.        , -1.        , -1.        ],\n",
       "       [-1.        , -1.        , -1.        , -1.        , -1.        ,\n",
       "        -1.        , -1.        , -0.80392157,  0.00392157,  0.97647059,\n",
       "         0.98431373,  0.97647059,  0.10588235, -0.70980392, -1.        ,\n",
       "        -1.        , -1.        , -1.        , -1.        , -1.        ,\n",
       "        -1.        , -1.        , -1.        , -1.        , -1.        ,\n",
       "        -1.        , -1.        , -1.        ],\n",
       "       [-1.        , -1.        , -1.        , -1.        , -1.        ,\n",
       "        -1.        , -1.        , -1.        , -1.        , -1.        ,\n",
       "        -1.        , -1.        , -1.        , -1.        , -1.        ,\n",
       "        -1.        , -1.        , -1.        , -1.        , -1.        ,\n",
       "        -1.        , -1.        , -1.        , -1.        , -1.        ,\n",
       "        -1.        , -1.        , -1.        ],\n",
       "       [-1.        , -1.        , -1.        , -1.        , -1.        ,\n",
       "        -1.        , -1.        , -1.        , -1.        , -1.        ,\n",
       "        -1.        , -1.        , -1.        , -1.        , -1.        ,\n",
       "        -1.        , -1.        , -1.        , -1.        , -1.        ,\n",
       "        -1.        , -1.        , -1.        , -1.        , -1.        ,\n",
       "        -1.        , -1.        , -1.        ],\n",
       "       [-1.        , -1.        , -1.        , -1.        , -1.        ,\n",
       "        -1.        , -1.        , -1.        , -1.        , -1.        ,\n",
       "        -1.        , -1.        , -1.        , -1.        , -1.        ,\n",
       "        -1.        , -1.        , -1.        , -1.        , -1.        ,\n",
       "        -1.        , -1.        , -1.        , -1.        , -1.        ,\n",
       "        -1.        , -1.        , -1.        ],\n",
       "       [-1.        , -1.        , -1.        , -1.        , -1.        ,\n",
       "        -1.        , -1.        , -1.        , -1.        , -1.        ,\n",
       "        -1.        , -1.        , -1.        , -1.        , -1.        ,\n",
       "        -1.        , -1.        , -1.        , -1.        , -1.        ,\n",
       "        -1.        , -1.        , -1.        , -1.        , -1.        ,\n",
       "        -1.        , -1.        , -1.        ]])"
      ]
     },
     "execution_count": 7,
     "metadata": {},
     "output_type": "execute_result"
    }
   ],
   "source": [
    "train[1,:,:,0]"
   ]
  },
  {
   "cell_type": "code",
   "execution_count": 8,
   "metadata": {},
   "outputs": [],
   "source": [
    "training_labels_oh = mnist_data.Y_onehot(training_labels,10)\n",
    "test_labels_oh = mnist_data.Y_onehot(test_labels,10)"
   ]
  },
  {
   "cell_type": "code",
   "execution_count": null,
   "metadata": {},
   "outputs": [],
   "source": [
    "\n",
    "\n",
    "\n",
    "\n"
   ]
  },
  {
   "cell_type": "code",
   "execution_count": null,
   "metadata": {},
   "outputs": [],
   "source": []
  },
  {
   "cell_type": "code",
   "execution_count": null,
   "metadata": {},
   "outputs": [],
   "source": []
  },
  {
   "cell_type": "code",
   "execution_count": null,
   "metadata": {
    "scrolled": true
   },
   "outputs": [],
   "source": []
  },
  {
   "cell_type": "code",
   "execution_count": null,
   "metadata": {},
   "outputs": [],
   "source": []
  },
  {
   "cell_type": "code",
   "execution_count": null,
   "metadata": {},
   "outputs": [],
   "source": []
  },
  {
   "cell_type": "code",
   "execution_count": null,
   "metadata": {},
   "outputs": [],
   "source": []
  },
  {
   "cell_type": "code",
   "execution_count": 8,
   "metadata": {},
   "outputs": [
    {
     "ename": "NameError",
     "evalue": "name 'get_generator_prediction' is not defined",
     "output_type": "error",
     "traceback": [
      "\u001b[0;31m---------------------------------------------------------------------------\u001b[0m",
      "\u001b[0;31mNameError\u001b[0m                                 Traceback (most recent call last)",
      "\u001b[0;32m<ipython-input-8-adb47470fc26>\u001b[0m in \u001b[0;36m<module>\u001b[0;34m()\u001b[0m\n\u001b[0;32m----> 1\u001b[0;31m \u001b[0mget_generator_prediction\u001b[0m\u001b[0;34m(\u001b[0m\u001b[0mmodel\u001b[0m\u001b[0;34m,\u001b[0m \u001b[0mnoise\u001b[0m\u001b[0;34m,\u001b[0m \u001b[0mgenerator_labels\u001b[0m\u001b[0;34m,\u001b[0m \u001b[0;36m400\u001b[0m\u001b[0;34m)\u001b[0m\u001b[0;34m\u001b[0m\u001b[0m\n\u001b[0m",
      "\u001b[0;31mNameError\u001b[0m: name 'get_generator_prediction' is not defined"
     ]
    }
   ],
   "source": [
    "get_generator_prediction(model, noise, generator_labels, 400)"
   ]
  },
  {
   "cell_type": "code",
   "execution_count": 7,
   "metadata": {
    "scrolled": true
   },
   "outputs": [
    {
     "ename": "NameError",
     "evalue": "name 'get_generator_prediction' is not defined",
     "output_type": "error",
     "traceback": [
      "\u001b[0;31m---------------------------------------------------------------------------\u001b[0m",
      "\u001b[0;31mNameError\u001b[0m                                 Traceback (most recent call last)",
      "\u001b[0;32m<ipython-input-7-f4dccfb10779>\u001b[0m in \u001b[0;36m<module>\u001b[0;34m()\u001b[0m\n\u001b[0;32m----> 1\u001b[0;31m \u001b[0mget_generator_prediction\u001b[0m\u001b[0;34m(\u001b[0m\u001b[0mmodel\u001b[0m\u001b[0;34m,\u001b[0m \u001b[0mnoise\u001b[0m\u001b[0;34m,\u001b[0m \u001b[0mgenerator_images\u001b[0m\u001b[0;34m,\u001b[0m \u001b[0mgenerator_labels\u001b[0m\u001b[0;34m,\u001b[0m \u001b[0;36m400\u001b[0m\u001b[0;34m)\u001b[0m\u001b[0;34m\u001b[0m\u001b[0m\n\u001b[0m",
      "\u001b[0;31mNameError\u001b[0m: name 'get_generator_prediction' is not defined"
     ]
    }
   ],
   "source": [
    "get_generator_prediction(model, noise, generator_images, generator_labels, 400)"
   ]
  },
  {
   "cell_type": "code",
   "execution_count": null,
   "metadata": {},
   "outputs": [],
   "source": []
  }
 ],
 "metadata": {
  "kernelspec": {
   "display_name": "Python 3",
   "language": "python",
   "name": "python3"
  },
  "language_info": {
   "codemirror_mode": {
    "name": "ipython",
    "version": 3
   },
   "file_extension": ".py",
   "mimetype": "text/x-python",
   "name": "python",
   "nbconvert_exporter": "python",
   "pygments_lexer": "ipython3",
   "version": "3.6.5"
  }
 },
 "nbformat": 4,
 "nbformat_minor": 2
}
