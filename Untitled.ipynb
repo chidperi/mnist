{
 "cells": [
  {
   "cell_type": "code",
   "execution_count": 64,
   "metadata": {},
   "outputs": [],
   "source": [
    "%matplotlib inline\n",
    "import mnist_data\n",
    "import numpy as np\n"
   ]
  },
  {
   "cell_type": "code",
   "execution_count": 65,
   "metadata": {},
   "outputs": [],
   "source": [
    "training_images, training_labels, test_images, test_labels = mnist_data.load()"
   ]
  },
  {
   "cell_type": "code",
   "execution_count": 66,
   "metadata": {
    "scrolled": false
   },
   "outputs": [
    {
     "data": {
      "text/plain": [
       "(10000, 28, 28, 1)"
      ]
     },
     "execution_count": 66,
     "metadata": {},
     "output_type": "execute_result"
    }
   ],
   "source": [
    "training_images.shape\n",
    "test_images.shape"
   ]
  },
  {
   "cell_type": "code",
   "execution_count": 67,
   "metadata": {},
   "outputs": [
    {
     "data": {
      "text/plain": [
       "array([[  0,   0,   0,   0,   0,   0,   0,   0,   0,   0,   0,   0,   0,\n",
       "          0,   0,   0,   0,   0,   0,   0,   0,   0,   0,   0,   0,   0,\n",
       "          0,   0],\n",
       "       [  0,   0,   0,   0,   0,   0,   0,   0,   0,   0,   0,   0,   0,\n",
       "          0,   0,   0,   0,   0,   0,   0,   0,   0,   0,   0,   0,   0,\n",
       "          0,   0],\n",
       "       [  0,   0,   0,   0,   0,   0,   0,   0,   0,   0,   0,   0,   0,\n",
       "          0,   0,   0,   0,   0,   0,   0,   0,   0,   0,   0,   0,   0,\n",
       "          0,   0],\n",
       "       [  0,   0,   0,   0,   0,   0,   0,   0,   0,   0,   0,   0,   0,\n",
       "          0,   0,   0,   0,   0,   0,   0,   0,   0,   0,   0,   0,   0,\n",
       "          0,   0],\n",
       "       [  0,   0,   0,   0,   0,   0,   0,   0,   0,   0,   0,   0,   0,\n",
       "          0,   0,  51, 159, 253, 159,  50,   0,   0,   0,   0,   0,   0,\n",
       "          0,   0],\n",
       "       [  0,   0,   0,   0,   0,   0,   0,   0,   0,   0,   0,   0,   0,\n",
       "          0,  48, 238, 252, 252, 252, 237,   0,   0,   0,   0,   0,   0,\n",
       "          0,   0],\n",
       "       [  0,   0,   0,   0,   0,   0,   0,   0,   0,   0,   0,   0,   0,\n",
       "         54, 227, 253, 252, 239, 233, 252,  57,   6,   0,   0,   0,   0,\n",
       "          0,   0],\n",
       "       [  0,   0,   0,   0,   0,   0,   0,   0,   0,   0,   0,  10,  60,\n",
       "        224, 252, 253, 252, 202,  84, 252, 253, 122,   0,   0,   0,   0,\n",
       "          0,   0],\n",
       "       [  0,   0,   0,   0,   0,   0,   0,   0,   0,   0,   0, 163, 252,\n",
       "        252, 252, 253, 252, 252,  96, 189, 253, 167,   0,   0,   0,   0,\n",
       "          0,   0],\n",
       "       [  0,   0,   0,   0,   0,   0,   0,   0,   0,   0,  51, 238, 253,\n",
       "        253, 190, 114, 253, 228,  47,  79, 255, 168,   0,   0,   0,   0,\n",
       "          0,   0],\n",
       "       [  0,   0,   0,   0,   0,   0,   0,   0,   0,  48, 238, 252, 252,\n",
       "        179,  12,  75, 121,  21,   0,   0, 253, 243,  50,   0,   0,   0,\n",
       "          0,   0],\n",
       "       [  0,   0,   0,   0,   0,   0,   0,   0,  38, 165, 253, 233, 208,\n",
       "         84,   0,   0,   0,   0,   0,   0, 253, 252, 165,   0,   0,   0,\n",
       "          0,   0],\n",
       "       [  0,   0,   0,   0,   0,   0,   0,   7, 178, 252, 240,  71,  19,\n",
       "         28,   0,   0,   0,   0,   0,   0, 253, 252, 195,   0,   0,   0,\n",
       "          0,   0],\n",
       "       [  0,   0,   0,   0,   0,   0,   0,  57, 252, 252,  63,   0,   0,\n",
       "          0,   0,   0,   0,   0,   0,   0, 253, 252, 195,   0,   0,   0,\n",
       "          0,   0],\n",
       "       [  0,   0,   0,   0,   0,   0,   0, 198, 253, 190,   0,   0,   0,\n",
       "          0,   0,   0,   0,   0,   0,   0, 255, 253, 196,   0,   0,   0,\n",
       "          0,   0],\n",
       "       [  0,   0,   0,   0,   0,   0,  76, 246, 252, 112,   0,   0,   0,\n",
       "          0,   0,   0,   0,   0,   0,   0, 253, 252, 148,   0,   0,   0,\n",
       "          0,   0],\n",
       "       [  0,   0,   0,   0,   0,   0,  85, 252, 230,  25,   0,   0,   0,\n",
       "          0,   0,   0,   0,   0,   7, 135, 253, 186,  12,   0,   0,   0,\n",
       "          0,   0],\n",
       "       [  0,   0,   0,   0,   0,   0,  85, 252, 223,   0,   0,   0,   0,\n",
       "          0,   0,   0,   0,   7, 131, 252, 225,  71,   0,   0,   0,   0,\n",
       "          0,   0],\n",
       "       [  0,   0,   0,   0,   0,   0,  85, 252, 145,   0,   0,   0,   0,\n",
       "          0,   0,   0,  48, 165, 252, 173,   0,   0,   0,   0,   0,   0,\n",
       "          0,   0],\n",
       "       [  0,   0,   0,   0,   0,   0,  86, 253, 225,   0,   0,   0,   0,\n",
       "          0,   0, 114, 238, 253, 162,   0,   0,   0,   0,   0,   0,   0,\n",
       "          0,   0],\n",
       "       [  0,   0,   0,   0,   0,   0,  85, 252, 249, 146,  48,  29,  85,\n",
       "        178, 225, 253, 223, 167,  56,   0,   0,   0,   0,   0,   0,   0,\n",
       "          0,   0],\n",
       "       [  0,   0,   0,   0,   0,   0,  85, 252, 252, 252, 229, 215, 252,\n",
       "        252, 252, 196, 130,   0,   0,   0,   0,   0,   0,   0,   0,   0,\n",
       "          0,   0],\n",
       "       [  0,   0,   0,   0,   0,   0,  28, 199, 252, 252, 253, 252, 252,\n",
       "        233, 145,   0,   0,   0,   0,   0,   0,   0,   0,   0,   0,   0,\n",
       "          0,   0],\n",
       "       [  0,   0,   0,   0,   0,   0,   0,  25, 128, 252, 253, 252, 141,\n",
       "         37,   0,   0,   0,   0,   0,   0,   0,   0,   0,   0,   0,   0,\n",
       "          0,   0],\n",
       "       [  0,   0,   0,   0,   0,   0,   0,   0,   0,   0,   0,   0,   0,\n",
       "          0,   0,   0,   0,   0,   0,   0,   0,   0,   0,   0,   0,   0,\n",
       "          0,   0],\n",
       "       [  0,   0,   0,   0,   0,   0,   0,   0,   0,   0,   0,   0,   0,\n",
       "          0,   0,   0,   0,   0,   0,   0,   0,   0,   0,   0,   0,   0,\n",
       "          0,   0],\n",
       "       [  0,   0,   0,   0,   0,   0,   0,   0,   0,   0,   0,   0,   0,\n",
       "          0,   0,   0,   0,   0,   0,   0,   0,   0,   0,   0,   0,   0,\n",
       "          0,   0],\n",
       "       [  0,   0,   0,   0,   0,   0,   0,   0,   0,   0,   0,   0,   0,\n",
       "          0,   0,   0,   0,   0,   0,   0,   0,   0,   0,   0,   0,   0,\n",
       "          0,   0]])"
      ]
     },
     "execution_count": 67,
     "metadata": {},
     "output_type": "execute_result"
    }
   ],
   "source": [
    "training_images[1,:,:,0]\n",
    "\n"
   ]
  },
  {
   "cell_type": "code",
   "execution_count": 68,
   "metadata": {},
   "outputs": [
    {
     "name": "stdout",
     "output_type": "stream",
     "text": [
      "Label is 0\n"
     ]
    },
    {
     "data": {
      "image/png": "[encoded data removed]",
      "text/plain": [
       "<Figure size 432x288 with 1 Axes>"
      ]
     },
     "metadata": {},
     "output_type": "display_data"
    }
   ],
   "source": [
    "mnist_data.show_image(1, training_images, training_labels)"
   ]
  },
  {
   "cell_type": "code",
   "execution_count": 69,
   "metadata": {},
   "outputs": [],
   "source": [
    "train, test = mnist_data.X_normalize(training_images, test_images)"
   ]
  },
  {
   "cell_type": "code",
   "execution_count": 70,
   "metadata": {},
   "outputs": [
    {
     "data": {
      "text/plain": [
       "array([[-1.        , -1.        , -1.        , -1.        , -1.        ,\n",
       "        -1.        , -1.        , -1.        , -1.        , -1.        ,\n",
       "        -1.        , -1.        , -1.        , -1.        , -1.        ,\n",
       "        -1.        , -1.        , -1.        , -1.        , -1.        ,\n",
       "        -1.        , -1.        , -1.        , -1.        , -1.        ,\n",
       "        -1.        , -1.        , -1.        ],\n",
       "       [-1.        , -1.        , -1.        , -1.        , -1.        ,\n",
       "        -1.        , -1.        , -1.        , -1.        , -1.        ,\n",
       "        -1.        , -1.        , -1.        , -1.        , -1.        ,\n",
       "        -1.        , -1.        , -1.        , -1.        , -1.        ,\n",
       "        -1.        , -1.        , -1.        , -1.        , -1.        ,\n",
       "        -1.        , -1.        , -1.        ],\n",
       "       [-1.        , -1.        , -1.        , -1.        , -1.        ,\n",
       "        -1.        , -1.        , -1.        , -1.        , -1.        ,\n",
       "        -1.        , -1.        , -1.        , -1.        , -1.        ,\n",
       "        -1.        , -1.        , -1.        , -1.        , -1.        ,\n",
       "        -1.        , -1.        , -1.        , -1.        , -1.        ,\n",
       "        -1.        , -1.        , -1.        ],\n",
       "       [-1.        , -1.        , -1.        , -1.        , -1.        ,\n",
       "        -1.        , -1.        , -1.        , -1.        , -1.        ,\n",
       "        -1.        , -1.        , -1.        , -1.        , -1.        ,\n",
       "        -1.        , -1.        , -1.        , -1.        , -1.        ,\n",
       "        -1.        , -1.        , -1.        , -1.        , -1.        ,\n",
       "        -1.        , -1.        , -1.        ],\n",
       "       [-1.        , -1.        , -1.        , -1.        , -1.        ,\n",
       "        -1.        , -1.        , -1.        , -1.        , -1.        ,\n",
       "        -1.        , -1.        , -1.        , -1.        , -1.        ,\n",
       "        -0.6       ,  0.24705882,  0.98431373,  0.24705882, -0.60784314,\n",
       "        -1.        , -1.        , -1.        , -1.        , -1.        ,\n",
       "        -1.        , -1.        , -1.        ],\n",
       "       [-1.        , -1.        , -1.        , -1.        , -1.        ,\n",
       "        -1.        , -1.        , -1.        , -1.        , -1.        ,\n",
       "        -1.        , -1.        , -1.        , -1.        , -0.62352941,\n",
       "         0.86666667,  0.97647059,  0.97647059,  0.97647059,  0.85882353,\n",
       "        -1.        , -1.        , -1.        , -1.        , -1.        ,\n",
       "        -1.        , -1.        , -1.        ],\n",
       "       [-1.        , -1.        , -1.        , -1.        , -1.        ,\n",
       "        -1.        , -1.        , -1.        , -1.        , -1.        ,\n",
       "        -1.        , -1.        , -1.        , -0.57647059,  0.78039216,\n",
       "         0.98431373,  0.97647059,  0.8745098 ,  0.82745098,  0.97647059,\n",
       "        -0.55294118, -0.95294118, -1.        , -1.        , -1.        ,\n",
       "        -1.        , -1.        , -1.        ],\n",
       "       [-1.        , -1.        , -1.        , -1.        , -1.        ,\n",
       "        -1.        , -1.        , -1.        , -1.        , -1.        ,\n",
       "        -1.        , -0.92156863, -0.52941176,  0.75686275,  0.97647059,\n",
       "         0.98431373,  0.97647059,  0.58431373, -0.34117647,  0.97647059,\n",
       "         0.98431373, -0.04313725, -1.        , -1.        , -1.        ,\n",
       "        -1.        , -1.        , -1.        ],\n",
       "       [-1.        , -1.        , -1.        , -1.        , -1.        ,\n",
       "        -1.        , -1.        , -1.        , -1.        , -1.        ,\n",
       "        -1.        ,  0.27843137,  0.97647059,  0.97647059,  0.97647059,\n",
       "         0.98431373,  0.97647059,  0.97647059, -0.24705882,  0.48235294,\n",
       "         0.98431373,  0.30980392, -1.        , -1.        , -1.        ,\n",
       "        -1.        , -1.        , -1.        ],\n",
       "       [-1.        , -1.        , -1.        , -1.        , -1.        ,\n",
       "        -1.        , -1.        , -1.        , -1.        , -1.        ,\n",
       "        -0.6       ,  0.86666667,  0.98431373,  0.98431373,  0.49019608,\n",
       "        -0.10588235,  0.98431373,  0.78823529, -0.63137255, -0.38039216,\n",
       "         1.        ,  0.31764706, -1.        , -1.        , -1.        ,\n",
       "        -1.        , -1.        , -1.        ],\n",
       "       [-1.        , -1.        , -1.        , -1.        , -1.        ,\n",
       "        -1.        , -1.        , -1.        , -1.        , -0.62352941,\n",
       "         0.86666667,  0.97647059,  0.97647059,  0.40392157, -0.90588235,\n",
       "        -0.41176471, -0.05098039, -0.83529412, -1.        , -1.        ,\n",
       "         0.98431373,  0.90588235, -0.60784314, -1.        , -1.        ,\n",
       "        -1.        , -1.        , -1.        ],\n",
       "       [-1.        , -1.        , -1.        , -1.        , -1.        ,\n",
       "        -1.        , -1.        , -1.        , -0.70196078,  0.29411765,\n",
       "         0.98431373,  0.82745098,  0.63137255, -0.34117647, -1.        ,\n",
       "        -1.        , -1.        , -1.        , -1.        , -1.        ,\n",
       "         0.98431373,  0.97647059,  0.29411765, -1.        , -1.        ,\n",
       "        -1.        , -1.        , -1.        ],\n",
       "       [-1.        , -1.        , -1.        , -1.        , -1.        ,\n",
       "        -1.        , -1.        , -0.94509804,  0.39607843,  0.97647059,\n",
       "         0.88235294, -0.44313725, -0.85098039, -0.78039216, -1.        ,\n",
       "        -1.        , -1.        , -1.        , -1.        , -1.        ,\n",
       "         0.98431373,  0.97647059,  0.52941176, -1.        , -1.        ,\n",
       "        -1.        , -1.        , -1.        ],\n",
       "       [-1.        , -1.        , -1.        , -1.        , -1.        ,\n",
       "        -1.        , -1.        , -0.55294118,  0.97647059,  0.97647059,\n",
       "        -0.50588235, -1.        , -1.        , -1.        , -1.        ,\n",
       "        -1.        , -1.        , -1.        , -1.        , -1.        ,\n",
       "         0.98431373,  0.97647059,  0.52941176, -1.        , -1.        ,\n",
       "        -1.        , -1.        , -1.        ],\n",
       "       [-1.        , -1.        , -1.        , -1.        , -1.        ,\n",
       "        -1.        , -1.        ,  0.55294118,  0.98431373,  0.49019608,\n",
       "        -1.        , -1.        , -1.        , -1.        , -1.        ,\n",
       "        -1.        , -1.        , -1.        , -1.        , -1.        ,\n",
       "         1.        ,  0.98431373,  0.5372549 , -1.        , -1.        ,\n",
       "        -1.        , -1.        , -1.        ],\n",
       "       [-1.        , -1.        , -1.        , -1.        , -1.        ,\n",
       "        -1.        , -0.40392157,  0.92941176,  0.97647059, -0.12156863,\n",
       "        -1.        , -1.        , -1.        , -1.        , -1.        ,\n",
       "        -1.        , -1.        , -1.        , -1.        , -1.        ,\n",
       "         0.98431373,  0.97647059,  0.16078431, -1.        , -1.        ,\n",
       "        -1.        , -1.        , -1.        ],\n",
       "       [-1.        , -1.        , -1.        , -1.        , -1.        ,\n",
       "        -1.        , -0.33333333,  0.97647059,  0.80392157, -0.80392157,\n",
       "        -1.        , -1.        , -1.        , -1.        , -1.        ,\n",
       "        -1.        , -1.        , -1.        , -0.94509804,  0.05882353,\n",
       "         0.98431373,  0.45882353, -0.90588235, -1.        , -1.        ,\n",
       "        -1.        , -1.        , -1.        ],\n",
       "       [-1.        , -1.        , -1.        , -1.        , -1.        ,\n",
       "        -1.        , -0.33333333,  0.97647059,  0.74901961, -1.        ,\n",
       "        -1.        , -1.        , -1.        , -1.        , -1.        ,\n",
       "        -1.        , -1.        , -0.94509804,  0.02745098,  0.97647059,\n",
       "         0.76470588, -0.44313725, -1.        , -1.        , -1.        ,\n",
       "        -1.        , -1.        , -1.        ],\n",
       "       [-1.        , -1.        , -1.        , -1.        , -1.        ,\n",
       "        -1.        , -0.33333333,  0.97647059,  0.1372549 , -1.        ,\n",
       "        -1.        , -1.        , -1.        , -1.        , -1.        ,\n",
       "        -1.        , -0.62352941,  0.29411765,  0.97647059,  0.35686275,\n",
       "        -1.        , -1.        , -1.        , -1.        , -1.        ,\n",
       "        -1.        , -1.        , -1.        ],\n",
       "       [-1.        , -1.        , -1.        , -1.        , -1.        ,\n",
       "        -1.        , -0.3254902 ,  0.98431373,  0.76470588, -1.        ,\n",
       "        -1.        , -1.        , -1.        , -1.        , -1.        ,\n",
       "        -0.10588235,  0.86666667,  0.98431373,  0.27058824, -1.        ,\n",
       "        -1.        , -1.        , -1.        , -1.        , -1.        ,\n",
       "        -1.        , -1.        , -1.        ],\n",
       "       [-1.        , -1.        , -1.        , -1.        , -1.        ,\n",
       "        -1.        , -0.33333333,  0.97647059,  0.95294118,  0.14509804,\n",
       "        -0.62352941, -0.77254902, -0.33333333,  0.39607843,  0.76470588,\n",
       "         0.98431373,  0.74901961,  0.30980392, -0.56078431, -1.        ,\n",
       "        -1.        , -1.        , -1.        , -1.        , -1.        ,\n",
       "        -1.        , -1.        , -1.        ],\n",
       "       [-1.        , -1.        , -1.        , -1.        , -1.        ,\n",
       "        -1.        , -0.33333333,  0.97647059,  0.97647059,  0.97647059,\n",
       "         0.79607843,  0.68627451,  0.97647059,  0.97647059,  0.97647059,\n",
       "         0.5372549 ,  0.01960784, -1.        , -1.        , -1.        ,\n",
       "        -1.        , -1.        , -1.        , -1.        , -1.        ,\n",
       "        -1.        , -1.        , -1.        ],\n",
       "       [-1.        , -1.        , -1.        , -1.        , -1.        ,\n",
       "        -1.        , -0.78039216,  0.56078431,  0.97647059,  0.97647059,\n",
       "         0.98431373,  0.97647059,  0.97647059,  0.82745098,  0.1372549 ,\n",
       "        -1.        , -1.        , -1.        , -1.        , -1.        ,\n",
       "        -1.        , -1.        , -1.        , -1.        , -1.        ,\n",
       "        -1.        , -1.        , -1.        ],\n",
       "       [-1.        , -1.        , -1.        , -1.        , -1.        ,\n",
       "        -1.        , -1.        , -0.80392157,  0.00392157,  0.97647059,\n",
       "         0.98431373,  0.97647059,  0.10588235, -0.70980392, -1.        ,\n",
       "        -1.        , -1.        , -1.        , -1.        , -1.        ,\n",
       "        -1.        , -1.        , -1.        , -1.        , -1.        ,\n",
       "        -1.        , -1.        , -1.        ],\n",
       "       [-1.        , -1.        , -1.        , -1.        , -1.        ,\n",
       "        -1.        , -1.        , -1.        , -1.        , -1.        ,\n",
       "        -1.        , -1.        , -1.        , -1.        , -1.        ,\n",
       "        -1.        , -1.        , -1.        , -1.        , -1.        ,\n",
       "        -1.        , -1.        , -1.        , -1.        , -1.        ,\n",
       "        -1.        , -1.        , -1.        ],\n",
       "       [-1.        , -1.        , -1.        , -1.        , -1.        ,\n",
       "        -1.        , -1.        , -1.        , -1.        , -1.        ,\n",
       "        -1.        , -1.        , -1.        , -1.        , -1.        ,\n",
       "        -1.        , -1.        , -1.        , -1.        , -1.        ,\n",
       "        -1.        , -1.        , -1.        , -1.        , -1.        ,\n",
       "        -1.        , -1.        , -1.        ],\n",
       "       [-1.        , -1.        , -1.        , -1.        , -1.        ,\n",
       "        -1.        , -1.        , -1.        , -1.        , -1.        ,\n",
       "        -1.        , -1.        , -1.        , -1.        , -1.        ,\n",
       "        -1.        , -1.        , -1.        , -1.        , -1.        ,\n",
       "        -1.        , -1.        , -1.        , -1.        , -1.        ,\n",
       "        -1.        , -1.        , -1.        ],\n",
       "       [-1.        , -1.        , -1.        , -1.        , -1.        ,\n",
       "        -1.        , -1.        , -1.        , -1.        , -1.        ,\n",
       "        -1.        , -1.        , -1.        , -1.        , -1.        ,\n",
       "        -1.        , -1.        , -1.        , -1.        , -1.        ,\n",
       "        -1.        , -1.        , -1.        , -1.        , -1.        ,\n",
       "        -1.        , -1.        , -1.        ]])"
      ]
     },
     "execution_count": 70,
     "metadata": {},
     "output_type": "execute_result"
    }
   ],
   "source": [
    "train[1,:,:,0]"
   ]
  },
  {
   "cell_type": "code",
   "execution_count": 71,
   "metadata": {},
   "outputs": [],
   "source": [
    "testim= mnist_data.X_denormalize(train[1,:,:,0])"
   ]
  },
  {
   "cell_type": "code",
   "execution_count": 72,
   "metadata": {},
   "outputs": [
    {
     "data": {
      "text/plain": [
       "<matplotlib.image.AxesImage at 0x7eff63ac9940>"
      ]
     },
     "execution_count": 72,
     "metadata": {},
     "output_type": "execute_result"
    },
    {
     "data": {
      "image/png": "[encoded data removed]",
      "text/plain": [
       "<Figure size 432x288 with 1 Axes>"
      ]
     },
     "metadata": {},
     "output_type": "display_data"
    }
   ],
   "source": [
    "mnist_data.plt.imshow(testim,cmap='gray_r')"
   ]
  },
  {
   "cell_type": "code",
   "execution_count": 73,
   "metadata": {},
   "outputs": [
    {
     "data": {
      "text/plain": [
       "(10000, 1)"
      ]
     },
     "execution_count": 73,
     "metadata": {},
     "output_type": "execute_result"
    }
   ],
   "source": [
    "test_labels.shape"
   ]
  },
  {
   "cell_type": "code",
   "execution_count": 74,
   "metadata": {},
   "outputs": [],
   "source": [
    "training_labels_oh = mnist_data.Y_onehot(training_labels,10)\n",
    "test_labels_oh = mnist_data.Y_onehot(test_labels,10)"
   ]
  },
  {
   "cell_type": "code",
   "execution_count": 163,
   "metadata": {},
   "outputs": [
    {
     "name": "stdout",
     "output_type": "stream",
     "text": [
      "Label is 4\n"
     ]
    },
    {
     "data": {
      "image/png": "[encoded data removed]",
      "text/plain": [
       "<Figure size 432x288 with 1 Axes>"
      ]
     },
     "metadata": {},
     "output_type": "display_data"
    }
   ],
   "source": [
    "def generate_noise(samples, data):\n",
    "    noise = np.random.random((samples,data))*50\n",
    "    softmax_noise = np.exp(noise)\n",
    "    softmax_noise = softmax_noise/softmax_noise.sum(axis=1, keepdims=True)\n",
    "    return softmax_noise\n",
    "\n",
    "noise = generate_noise(60000,10)\n",
    "\n",
    "def generate_image_labels(generator, noise):\n",
    "    generator.model.compile(optimizer='Adam',loss='categorical_crossentropy')\n",
    "    generator_images = generator.model.predict(noise)\n",
    "    generator_labels=np.argmax(noise, axis=1).reshape(-1,1)\n",
    "    generate_images = mnist_data.X_denormalize(generator_images)\n",
    "\n",
    "    return generator_images, generator_labels\n",
    "\n",
    "generator_images, generator_labels = generate_image_labels(generator, noise)\n",
    "mnist_data.show_image(images=generator_images, index=5, labels=generator_labels)"
   ]
  },
  {
   "cell_type": "code",
   "execution_count": 161,
   "metadata": {},
   "outputs": [
    {
     "data": {
      "text/plain": [
       "(60000, 28, 28, 1)"
      ]
     },
     "execution_count": 161,
     "metadata": {},
     "output_type": "execute_result"
    }
   ],
   "source": [
    "training_images.shape"
   ]
  },
  {
   "cell_type": "code",
   "execution_count": 152,
   "metadata": {},
   "outputs": [],
   "source": [
    "noise = generate_noise(100,10)\n",
    "\n",
    "generator.model.compile(optimizer='Adam',loss='categorical_crossentropy')\n",
    "generator_images = generator.model.predict(noise)\n",
    "generator_labels=np.argmax(noise, axis=1).reshape(-1,1)"
   ]
  },
  {
   "cell_type": "code",
   "execution_count": 155,
   "metadata": {},
   "outputs": [
    {
     "name": "stdout",
     "output_type": "stream",
     "text": [
      "Label is 6\n"
     ]
    },
    {
     "data": {
      "image/png": "[encoded data removed]",
      "text/plain": [
       "<Figure size 432x288 with 1 Axes>"
      ]
     },
     "metadata": {},
     "output_type": "display_data"
    }
   ],
   "source": [
    "noise_images = mnist_data.X_denormalize(noise_images)\n",
    "mnist_data.show_image(images=noise_images, index=3, labels=noise_labels)\n"
   ]
  },
  {
   "cell_type": "code",
   "execution_count": 156,
   "metadata": {},
   "outputs": [
    {
     "data": {
      "text/plain": [
       "(100, 1)"
      ]
     },
     "execution_count": 156,
     "metadata": {},
     "output_type": "execute_result"
    }
   ],
   "source": [
    "noise_labels.shape"
   ]
  },
  {
   "cell_type": "code",
   "execution_count": 2,
   "metadata": {},
   "outputs": [
    {
     "name": "stdout",
     "output_type": "stream",
     "text": [
      "Train on 54000 samples, validate on 6000 samples\n",
      "Epoch 1/1\n",
      "54000/54000 [==============================] - 29s 539us/step - loss: 1.0443 - acc: 0.7125 - val_loss: 0.1880 - val_acc: 0.9447\n",
      "10000/10000 [==============================] - 3s 312us/step\n"
     ]
    },
    {
     "data": {
      "text/plain": [
       "<CNN.NN at 0x7f431a2192e8>"
      ]
     },
     "execution_count": 2,
     "metadata": {},
     "output_type": "execute_result"
    }
   ],
   "source": [
    "CNN.main()"
   ]
  },
  {
   "cell_type": "code",
   "execution_count": 1,
   "metadata": {},
   "outputs": [
    {
     "name": "stderr",
     "output_type": "stream",
     "text": [
      "Using TensorFlow backend.\n"
     ]
    },
    {
     "name": "stdout",
     "output_type": "stream",
     "text": [
      "_________________________________________________________________\n",
      "Layer (type)                 Output Shape              Param #   \n",
      "=================================================================\n",
      "input_1 (InputLayer)         (None, 28, 28, 1)         0         \n",
      "_________________________________________________________________\n",
      "conv2d_1 (Conv2D)            (None, 28, 28, 2)         20        \n",
      "_________________________________________________________________\n",
      "conv2d_2 (Conv2D)            (None, 28, 28, 4)         76        \n",
      "_________________________________________________________________\n",
      "conv2d_3 (Conv2D)            (None, 28, 28, 8)         296       \n",
      "_________________________________________________________________\n",
      "conv2d_4 (Conv2D)            (None, 13, 13, 8)         1032      \n",
      "_________________________________________________________________\n",
      "conv2d_5 (Conv2D)            (None, 5, 5, 8)           1032      \n",
      "_________________________________________________________________\n",
      "flatten_1 (Flatten)          (None, 200)               0         \n",
      "_________________________________________________________________\n",
      "dense_1 (Dense)              (None, 128)               25728     \n",
      "_________________________________________________________________\n",
      "dense_2 (Dense)              (None, 10)                1290      \n",
      "=================================================================\n",
      "Total params: 29,474\n",
      "Trainable params: 29,474\n",
      "Non-trainable params: 0\n",
      "_________________________________________________________________\n"
     ]
    }
   ],
   "source": [
    "import CNN\n",
    "model = CNN.NN()\n",
    "model.CNN_NOPOOL(28,28,10)\n",
    "model.model.summary()\n",
    "\n"
   ]
  },
  {
   "cell_type": "code",
   "execution_count": 62,
   "metadata": {},
   "outputs": [
    {
     "name": "stdout",
     "output_type": "stream",
     "text": [
      "_________________________________________________________________\n",
      "Layer (type)                 Output Shape              Param #   \n",
      "=================================================================\n",
      "input_28 (InputLayer)        (None, 10)                0         \n",
      "_________________________________________________________________\n",
      "sequential_19 (Sequential)   (None, 28, 28, 1)         30527     \n",
      "_________________________________________________________________\n",
      "sequential_20 (Sequential)   (None, 10)                29474     \n",
      "=================================================================\n",
      "Total params: 60,001\n",
      "Trainable params: 60,001\n",
      "Non-trainable params: 0\n",
      "_________________________________________________________________\n"
     ]
    }
   ],
   "source": [
    "from keras import Input, Model, Sequential\n",
    "from keras.layers import Conv3D, Conv2D, MaxPool2D, Dense, Flatten, Conv2DTranspose, Reshape\n",
    "\n",
    "class Generator(object):\n",
    "    def __init__(self, h, d,classes):\n",
    "        self.trainable = True\n",
    "\n",
    "        \n",
    "        g_1 = Dense(128, activation='tanh',trainable = self.trainable,input_shape=(classes, )) \n",
    "\n",
    "        g_2 = Dense(200, activation='tanh',trainable = self.trainable)\n",
    "\n",
    "        g_3 = Reshape(target_shape=(5,5,8))\n",
    "\n",
    "        g_4 = Conv2DTranspose(8,(5,5), strides=2, activation = 'relu',trainable = self.trainable)\n",
    "\n",
    "        g_5 = Conv2DTranspose(8,(4,4), strides=2, activation = 'relu', padding='valid',trainable = self.trainable)\n",
    "\n",
    "        g_6 = Conv2DTranspose(4,(4,4), strides=1, activation = 'relu', padding='same',trainable = self.trainable)\n",
    "\n",
    "        g_7 = Conv2DTranspose(2,(4,4), strides=1, activation = 'relu', padding='same',trainable = self.trainable)\n",
    "\n",
    "        g_8 = Conv2DTranspose(1,(4,4), strides=1, activation = 'relu', padding='same',trainable = self.trainable)\n",
    "    \n",
    "        self.model = Sequential([\n",
    "\n",
    "            g_1,\n",
    "            g_2,\n",
    "            g_3,\n",
    "            g_4,\n",
    "            g_5,\n",
    "            g_6,\n",
    "            g_7,\n",
    "            g_8,\n",
    "        ])\n",
    "\n",
    "    def frozen_model(self):\n",
    "        self.trainable = False\n",
    "        self.model.layers[0].trainable = self.trainable\n",
    "        self.model.layers[1].trainable = self.trainable\n",
    "        self.model.layers[2].trainable = self.trainable\n",
    "        self.model.layers[3].trainable = self.trainable\n",
    "        self.model.layers[4].trainable = self.trainable\n",
    "        self.model.layers[5].trainable = self.trainable\n",
    "        self.model.layers[6].trainable = self.trainable\n",
    "        self.model.layers[7].trainable = self.trainable\n",
    "\n",
    "    def trainable_model(self):\n",
    "        self.trainable = True\n",
    "        self.model.layers[0].trainable = self.trainable\n",
    "        self.model.layers[1].trainable = self.trainable\n",
    "        self.model.layers[2].trainable = self.trainable\n",
    "        self.model.layers[3].trainable = self.trainable\n",
    "        self.model.layers[4].trainable = self.trainable\n",
    "        self.model.layers[5].trainable = self.trainable\n",
    "        self.model.layers[6].trainable = self.trainable\n",
    "        self.model.layers[7].trainable = self.trainable\n",
    "\n",
    "class Discriminator(object):\n",
    "    def __init__(self, h, d,classes):\n",
    "        self.trainable = True\n",
    "#         d_0 = Input(shape=(h, d, 1))\n",
    "        \n",
    "        d_1 = Conv2D(2, (3, 3), strides=1, padding='same', activation='relu', trainable = self.trainable,input_shape=(h, d, 1))\n",
    "\n",
    "        d_2 = Conv2D(4, (3, 3), strides=1, padding='same', activation='relu', trainable = self.trainable)\n",
    "\n",
    "        d_3 = Conv2D(8, (3, 3), strides=1, padding='same', activation='relu', trainable = self.trainable)\n",
    "\n",
    "        d_4 = Conv2D(8, (4, 4), strides=2, padding='valid', activation='relu', trainable = self.trainable)\n",
    "\n",
    "        d_5 = Conv2D(8, (4, 4), strides=2, padding='valid', activation='relu', trainable = self.trainable)\n",
    "\n",
    "        d_6 = Flatten()\n",
    "        d_7 = Dense(128, activation='tanh', trainable = self.trainable)\n",
    "\n",
    "        d_8 = Dense(classes, activation='softmax', trainable = self.trainable)\n",
    "        \n",
    "        self.model = Sequential([\n",
    "#             d_0,\n",
    "            d_1,\n",
    "            d_2,\n",
    "            d_3,\n",
    "            d_4,\n",
    "            d_5,\n",
    "            d_6,\n",
    "            d_7,\n",
    "            d_8,\n",
    "        ])\n",
    "\n",
    "    def frozen_model(self):\n",
    "        self.trainable = False\n",
    "        self.model.layers[0].trainable = self.trainable\n",
    "        self.model.layers[1].trainable = self.trainable\n",
    "        self.model.layers[2].trainable = self.trainable\n",
    "        self.model.layers[3].trainable = self.trainable\n",
    "        self.model.layers[4].trainable = self.trainable\n",
    "        self.model.layers[5].trainable = self.trainable\n",
    "        self.model.layers[6].trainable = self.trainable\n",
    "        self.model.layers[7].trainable = self.trainable\n",
    "\n",
    "    def trainable_model(self):\n",
    "        self.trainable = True\n",
    "        self.model.layers[0].trainable = self.trainable\n",
    "        self.model.layers[1].trainable = self.trainable\n",
    "        self.model.layers[2].trainable = self.trainable\n",
    "        self.model.layers[3].trainable = self.trainable\n",
    "        self.model.layers[4].trainable = self.trainable\n",
    "        self.model.layers[5].trainable = self.trainable\n",
    "        self.model.layers[6].trainable = self.trainable\n",
    "        self.model.layers[7].trainable = self.trainable\n",
    "\n",
    "        \n",
    "# def Discriminator(Xin, classes, trainable = True):\n",
    "\n",
    "#     d_1.trainable = trainable\n",
    "#     d_2.trainable = trainable    \n",
    "#     d_3.trainable = trainable\n",
    "#     d_4.trainable = trainable\n",
    "#     d_5.trainable = trainable\n",
    "#     d_6.trainable = trainable\n",
    "#     d_7.trainable = trainable\n",
    "#     d_8.trainable = trainable\n",
    "    \n",
    "#     X = d_1(Xin)\n",
    "#     X = d_2(X)\n",
    "#     X = d_3(X)\n",
    "#     X = d_4(X)\n",
    "#     X = d_5(X)\n",
    "#     X = d_6(X)\n",
    "#     X = d_7(X)\n",
    "#     out = d_8(X)\n",
    "    \n",
    "#     return out\n",
    "    \n",
    "\n",
    "\n",
    "\n",
    "Xin = Input(shape=(10,))\n",
    "generator = Generator(28,28,10)\n",
    "X = generator.model(Xin)\n",
    "discriminator = Discriminator(28,28,10)\n",
    "Xout = discriminator.model(X)\n",
    "\n",
    "out = Xout\n",
    "\n",
    "model = Model(inputs=Xin, outputs= out)\n",
    "    \n",
    "\n",
    "\n",
    "\n",
    "    \n",
    "\n",
    "model.summary()"
   ]
  },
  {
   "cell_type": "code",
   "execution_count": 63,
   "metadata": {},
   "outputs": [
    {
     "data": {
      "text/plain": [
       "<__main__.Generator at 0x7eff65dca710>"
      ]
     },
     "execution_count": 63,
     "metadata": {},
     "output_type": "execute_result"
    }
   ],
   "source": [
    "np.random"
   ]
  },
  {
   "cell_type": "code",
   "execution_count": 57,
   "metadata": {},
   "outputs": [
    {
     "data": {
      "text/plain": [
       "False"
      ]
     },
     "execution_count": 57,
     "metadata": {},
     "output_type": "execute_result"
    }
   ],
   "source": [
    "discriminator.frozen_model()\n",
    "model.layers[-1].layers[3].trainable"
   ]
  },
  {
   "cell_type": "code",
   "execution_count": 58,
   "metadata": {},
   "outputs": [
    {
     "data": {
      "text/plain": [
       "True"
      ]
     },
     "execution_count": 58,
     "metadata": {},
     "output_type": "execute_result"
    }
   ],
   "source": [
    "discriminator.trainable_model()\n",
    "model.layers[-1].layers[3].trainable"
   ]
  },
  {
   "cell_type": "code",
   "execution_count": 57,
   "metadata": {},
   "outputs": [
    {
     "data": {
      "text/plain": [
       "array([0, 4, 1, 4, 9, 6, 9, 0, 6, 9])"
      ]
     },
     "execution_count": 57,
     "metadata": {},
     "output_type": "execute_result"
    }
   ],
   "source": [
    "train"
   ]
  },
  {
   "cell_type": "code",
   "execution_count": 68,
   "metadata": {},
   "outputs": [
    {
     "name": "stdout",
     "output_type": "stream",
     "text": [
      "Label is 9\n"
     ]
    },
    {
     "data": {
      "image/png": "[encoded data removed]",
      "text/plain": [
       "<matplotlib.figure.Figure at 0x1123c3f60>"
      ]
     },
     "metadata": {},
     "output_type": "display_data"
    }
   ],
   "source": [
    "mnist_data.show_image(12,test_images,test_labels)"
   ]
  }
 ],
 "metadata": {
  "kernelspec": {
   "display_name": "Python 3",
   "language": "python",
   "name": "python3"
  },
  "language_info": {
   "codemirror_mode": {
    "name": "ipython",
    "version": 3
   },
   "file_extension": ".py",
   "mimetype": "text/x-python",
   "name": "python",
   "nbconvert_exporter": "python",
   "pygments_lexer": "ipython3",
   "version": "3.6.5"
  }
 },
 "nbformat": 4,
 "nbformat_minor": 2
}
